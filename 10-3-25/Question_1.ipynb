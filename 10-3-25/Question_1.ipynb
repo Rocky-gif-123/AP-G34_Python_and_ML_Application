{
 "cells": [
  {
   "cell_type": "code",
   "execution_count": 5,
   "metadata": {},
   "outputs": [],
   "source": [
    "# Function to count character frequencies\n",
    "def count_characters(message):\n",
    "    frequency = {}\n",
    "    for char in message:\n",
    "        if char in frequency:\n",
    "            frequency[char] += 1\n",
    "        else:\n",
    "            frequency[char] = 1\n",
    "    return frequency"
   ]
  },
  {
   "cell_type": "code",
   "execution_count": 6,
   "metadata": {},
   "outputs": [],
   "source": [
    "# Input from the user\n",
    "user_message = input(\"Enter your message: \")"
   ]
  },
  {
   "cell_type": "code",
   "execution_count": 7,
   "metadata": {},
   "outputs": [],
   "source": [
    "# Call the function and store the result\n",
    "char_frequency = count_characters(user_message)"
   ]
  },
  {
   "cell_type": "code",
   "execution_count": 8,
   "metadata": {},
   "outputs": [
    {
     "name": "stdout",
     "output_type": "stream",
     "text": [
      "Character Frequencies:\n",
      "H: 1\n",
      "e: 1\n",
      "l: 3\n",
      "o: 2\n",
      "Space: 1\n",
      "W: 1\n",
      "r: 1\n",
      "d: 1\n",
      "!: 1\n"
     ]
    }
   ],
   "source": [
    "# Display the result\n",
    "print(\"Character Frequencies:\")\n",
    "for char, freq in char_frequency.items():\n",
    "    if char == \" \":\n",
    "        print(f\"Space: {freq}\")\n",
    "    else:\n",
    "        print(f\"{char}: {freq}\")\n"
   ]
  }
 ],
 "metadata": {
  "kernelspec": {
   "display_name": "Python 3",
   "language": "python",
   "name": "python3"
  },
  "language_info": {
   "codemirror_mode": {
    "name": "ipython",
    "version": 3
   },
   "file_extension": ".py",
   "mimetype": "text/x-python",
   "name": "python",
   "nbconvert_exporter": "python",
   "pygments_lexer": "ipython3",
   "version": "3.13.2"
  }
 },
 "nbformat": 4,
 "nbformat_minor": 2
}

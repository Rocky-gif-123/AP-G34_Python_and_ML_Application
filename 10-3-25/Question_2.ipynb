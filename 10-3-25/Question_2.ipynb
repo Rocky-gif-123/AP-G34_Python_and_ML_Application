{
 "cells": [
  {
   "cell_type": "code",
   "execution_count": 4,
   "metadata": {},
   "outputs": [],
   "source": [
    "# Function to check if a number is an Armstrong number\n",
    "def is_armstrong_number(num):\n",
    "    # Convert the number to a string to iterate over its digits\n",
    "    digits = [int(digit) for digit in str(num)]\n",
    "    # Calculate the sum of cubes of its digits\n",
    "    armstrong_sum = sum(digit ** 3 for digit in digits)\n",
    "    # Return True if the sum is equal to the number\n",
    "    return num == armstrong_sum"
   ]
  },
  {
   "cell_type": "code",
   "execution_count": 5,
   "metadata": {},
   "outputs": [],
   "source": [
    "# Input: List of numbers\n",
    "numbers = list(map(int, input(\"Enter the list of numbers separated by space: \").split()))"
   ]
  },
  {
   "cell_type": "code",
   "execution_count": 6,
   "metadata": {},
   "outputs": [
    {
     "name": "stdout",
     "output_type": "stream",
     "text": [
      "No Armstrong Numbers found.\n"
     ]
    }
   ],
   "source": [
    "# Find and print Armstrong numbers\n",
    "armstrong_numbers = [num for num in numbers if is_armstrong_number(num)]\n",
    "\n",
    "if armstrong_numbers:\n",
    "    print(\"Armstrong Numbers:\", armstrong_numbers)\n",
    "else:\n",
    "    print(\"No Armstrong Numbers found.\")"
   ]
  }
 ],
 "metadata": {
  "kernelspec": {
   "display_name": "Python 3",
   "language": "python",
   "name": "python3"
  },
  "language_info": {
   "codemirror_mode": {
    "name": "ipython",
    "version": 3
   },
   "file_extension": ".py",
   "mimetype": "text/x-python",
   "name": "python",
   "nbconvert_exporter": "python",
   "pygments_lexer": "ipython3",
   "version": "3.13.2"
  }
 },
 "nbformat": 4,
 "nbformat_minor": 2
}

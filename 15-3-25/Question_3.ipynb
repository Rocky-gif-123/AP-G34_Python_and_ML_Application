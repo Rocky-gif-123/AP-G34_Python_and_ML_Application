{
 "cells": [
  {
   "cell_type": "code",
   "execution_count": 3,
   "metadata": {},
   "outputs": [],
   "source": [
    "def find_closest_temperatures(temperatures):\n",
    "    if len(temperatures) < 2:\n",
    "        return []\n",
    "\n",
    "    min_diff = float('inf')\n",
    "    min_indices = []\n",
    "\n",
    "    for i in range(len(temperatures) - 1):\n",
    "        for j in range(i + 1, len(temperatures)):\n",
    "            diff = abs(temperatures[i] - temperatures[j])\n",
    "            if diff < min_diff:\n",
    "                min_diff = diff\n",
    "                min_indices = [i, j]\n",
    "\n",
    "    return min_indices"
   ]
  },
  {
   "cell_type": "code",
   "execution_count": 4,
   "metadata": {},
   "outputs": [
    {
     "name": "stdout",
     "output_type": "stream",
     "text": [
      "[0, 3]\n"
     ]
    }
   ],
   "source": [
    "\n",
    "# Example usage\n",
    "temperatures = [1, 7, 9, 2, 10]\n",
    "print(find_closest_temperatures(temperatures))  # Output: [0, 3]"
   ]
  },
  {
   "cell_type": "code",
   "execution_count": null,
   "metadata": {},
   "outputs": [],
   "source": []
  }
 ],
 "metadata": {
  "kernelspec": {
   "display_name": "Python 3",
   "language": "python",
   "name": "python3"
  },
  "language_info": {
   "codemirror_mode": {
    "name": "ipython",
    "version": 3
   },
   "file_extension": ".py",
   "mimetype": "text/x-python",
   "name": "python",
   "nbconvert_exporter": "python",
   "pygments_lexer": "ipython3",
   "version": "3.13.2"
  }
 },
 "nbformat": 4,
 "nbformat_minor": 2
}

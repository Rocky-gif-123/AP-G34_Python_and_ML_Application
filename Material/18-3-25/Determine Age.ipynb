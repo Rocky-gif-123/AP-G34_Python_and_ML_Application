{
 "cells": [
  {
   "cell_type": "markdown",
   "metadata": {},
   "source": [
    "Write a Python program to create a person class. Include attributes like name, country and date of birth. Implement a method to determine the person's age."
   ]
  },
  {
   "cell_type": "code",
   "execution_count": 7,
   "metadata": {},
   "outputs": [
    {
     "name": "stdout",
     "output_type": "stream",
     "text": [
      "Name: Bhaven\n",
      "Country: India\n",
      "Date of Birth: 2000-03-18\n",
      "Age: 25 years\n"
     ]
    }
   ],
   "source": [
    "class Person:\n",
    "    from datetime import datetime\n",
    "\n",
    "    def __init__(self, name, country, date_of_birth):\n",
    "        self.name = name\n",
    "        self.country = country\n",
    "        self.date_of_birth = self.datetime.strptime(date_of_birth, \"%Y-%m-%d\")\n",
    "\n",
    "    def calculate_age(self):\n",
    "        today = self.datetime.today()\n",
    "        age = today.year - self.date_of_birth.year\n",
    "\n",
    "        # Check if the birthday hasn't occurred yet this year\n",
    "        if (today.month, today.day) < (self.date_of_birth.month, self.date_of_birth.day):\n",
    "            age -= 1\n",
    "\n",
    "        return age\n",
    "\n",
    "    def display_info(self):\n",
    "        print(f\"Name: {self.name}\")\n",
    "        print(f\"Country: {self.country}\")\n",
    "        print(f\"Date of Birth: {self.date_of_birth.strftime('%Y-%m-%d')}\")\n",
    "        print(f\"Age: {self.calculate_age()} years\")\n",
    "\n",
    "# Example usage\n",
    "person = Person(\"Bhaven\", \"India\", \"2000-03-18\")  # Replace with your own details\n",
    "person.display_info()"
   ]
  }
 ],
 "metadata": {
  "kernelspec": {
   "display_name": "Python 3",
   "language": "python",
   "name": "python3"
  },
  "language_info": {
   "codemirror_mode": {
    "name": "ipython",
    "version": 3
   },
   "file_extension": ".py",
   "mimetype": "text/x-python",
   "name": "python",
   "nbconvert_exporter": "python",
   "pygments_lexer": "ipython3",
   "version": "3.13.2"
  }
 },
 "nbformat": 4,
 "nbformat_minor": 2
}

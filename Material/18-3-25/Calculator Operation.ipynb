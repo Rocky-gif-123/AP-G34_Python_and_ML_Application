{
 "cells": [
  {
   "cell_type": "markdown",
   "metadata": {},
   "source": [
    "Write a Python program to create a calculator class. Include methods for basic arithmetic operations for any specific number ."
   ]
  },
  {
   "cell_type": "code",
   "execution_count": null,
   "metadata": {},
   "outputs": [],
   "source": [
    "#Code for two arguments\n",
    "class Calculator:\n",
    "    def __init__(self,num1,num2):\n",
    "        self.num1 = num1\n",
    "        self.num2 = num2\n",
    "    def add(self):\n",
    "        return self.num1 + self.num2\n",
    "    def subtract(self):\n",
    "        return self.num1 - self.num2\n",
    "    def multiply(self):\n",
    "        return self.num1 * self.num2\n",
    "    def divide(self):\n",
    "        return self.num1 / self.num2\n",
    "    def module(self):\n",
    "        return self.num1 % self.num2\n",
    "    \n"
   ]
  },
  {
   "cell_type": "code",
   "execution_count": 2,
   "metadata": {},
   "outputs": [
    {
     "name": "stdout",
     "output_type": "stream",
     "text": [
      "Addition: 15\n",
      "Subtraction: 5\n",
      "Multiplication: 50\n",
      "Division: 2.0\n",
      "Modulus: 0\n"
     ]
    }
   ],
   "source": [
    "# Create an instance of the Calculator class\n",
    "calc = Calculator(10, 5)\n",
    "\n",
    "# Perform basic arithmetic operations\n",
    "print(\"Addition:\", calc.add())\n",
    "print(\"Subtraction:\", calc.subtract())\n",
    "print(\"Multiplication:\", calc.multiply())\n",
    "print(\"Division:\", calc.divide())\n",
    "print(\"Modulus:\", calc.module())"
   ]
  },
  {
   "cell_type": "code",
   "execution_count": null,
   "metadata": {},
   "outputs": [],
   "source": [
    "#Code for multiple arguments\n",
    "class Calculator:\n",
    "    def add(self, *args):\n",
    "        \"\"\"Adds all the numbers.\"\"\"\n",
    "        return sum(args)\n",
    "\n",
    "    def subtract(self, *args):\n",
    "        \"\"\"Subtracts all numbers from the first number.\"\"\"\n",
    "        if len(args) < 2:\n",
    "            return \"At least two numbers are required for subtraction\"\n",
    "        result = args[0]\n",
    "        for num in args[1:]:\n",
    "            result -= num\n",
    "        return result\n",
    "\n",
    "    def multiply(self, *args):\n",
    "        \"\"\"Multiplies all the numbers.\"\"\"\n",
    "        if not args:\n",
    "            return \"At least one number is required for multiplication\"\n",
    "        result = 1\n",
    "        for num in args:\n",
    "            result *= num\n",
    "        return result\n",
    "\n",
    "    def divide(self, *args):\n",
    "        \"\"\"Divides the first number by all subsequent numbers.\"\"\"\n",
    "        if len(args) < 2:\n",
    "            return \"At least two numbers are required for division\"\n",
    "        result = args[0]\n",
    "        for num in args[1:]:\n",
    "            if num == 0:\n",
    "                return \"Division by zero is not allowed\"\n",
    "            result /= num\n",
    "        return result\n",
    "    \n",
    "    def modulus(self, *args):\n",
    "        \"\"\"Returns the remainder of the division of the first number by all subsequent numbers.\"\"\"\n",
    "        if len(args) < 2:\n",
    "            return \"At least two numbers are required for modulus\"\n",
    "        result = args[0]\n",
    "        for num in args[1:]:\n",
    "            if num == 0:\n",
    "                return \"Division by zero is not allowed\"\n",
    "            result %= num\n",
    "        return result\n",
    "\n",
    "# Example usage\n",
    "calc = Calculator()\n",
    "\n",
    "# Adding multiple numbers\n",
    "print(\"Addition:\", calc.add(10, 5, 2, 3))          # Output: 20\n",
    "\n",
    "# Subtracting multiple numbers\n",
    "print(\"Subtraction:\", calc.subtract(20, 5, 3))     # Output: 12\n",
    "\n",
    "# Multiplying multiple numbers\n",
    "print(\"Multiplication:\", calc.multiply(2, 3, 4))   # Output: 24\n",
    "\n",
    "# Dividing multiple numbers\n",
    "print(\"Division:\", calc.divide(100, 2, 5))         # Output: 10.0\n",
    "print(\"Division by zero:\", calc.divide(10, 0, 2))  # Output: Division by zero is not allowed\n",
    "\n",
    "# Calculating modulus\n",
    "print(\"Modulus:\", calc.modulus(10, 3))             # Output: 1\n",
    "print(\"Modulus by zero:\", calc.modulus(10, 0))     # Output: Division by zero is not allowed"
   ]
  }
 ],
 "metadata": {
  "kernelspec": {
   "display_name": "Python 3",
   "language": "python",
   "name": "python3"
  },
  "language_info": {
   "codemirror_mode": {
    "name": "ipython",
    "version": 3
   },
   "file_extension": ".py",
   "mimetype": "text/x-python",
   "name": "python",
   "nbconvert_exporter": "python",
   "pygments_lexer": "ipython3",
   "version": "3.13.2"
  }
 },
 "nbformat": 4,
 "nbformat_minor": 2
}

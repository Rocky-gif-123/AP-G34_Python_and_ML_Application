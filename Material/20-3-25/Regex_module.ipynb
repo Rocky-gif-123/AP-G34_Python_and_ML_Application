{
 "cells": [
  {
   "cell_type": "markdown",
   "metadata": {},
   "source": [
    "Question 1: Find Words Starting with a Capital Letter in the following string, text = \"My Name is Chaitanya and I Live in India.\""
   ]
  },
  {
   "cell_type": "code",
   "execution_count": null,
   "metadata": {},
   "outputs": [],
   "source": [
    "import re\n",
    "# Defining the text\n",
    "text = \"My Name is Chaitanya and I Live in India.\"\n",
    "\n",
    "# Find all words starting with a capital letter\n",
    "capital_words = re.findall(r'\\b[A-Z][a-z]*\\b', text)\n",
    "\n",
    "# Print the result\n",
    "print(capital_words)\n"
   ]
  },
  {
   "cell_type": "code",
   "execution_count": null,
   "metadata": {},
   "outputs": [],
   "source": [
    "capital=re.findall(r\"[A-Z]\\w+\",text)\n",
    "print(capital)\n"
   ]
  },
  {
   "cell_type": "markdown",
   "metadata": {},
   "source": [
    "Question 2: Replace multiple spaces with a single space in the following string.; text = \"This    is  a   sentence    with   extra  spaces.\""
   ]
  },
  {
   "cell_type": "code",
   "execution_count": null,
   "metadata": {},
   "outputs": [],
   "source": [
    "import re\n",
    "\n",
    "# Define the text\n",
    "text = \"This    is  a   sentence    with   extra  spaces.\"\n",
    "\n",
    "# Replace multiple spaces with a single space\n",
    "cleaned_text = re.sub(r'\\s+', ' ', text)\n",
    "\n",
    "# Print the result\n",
    "print(cleaned_text)\n"
   ]
  },
  {
   "cell_type": "markdown",
   "metadata": {},
   "source": [
    "Question 3: Find all hashtags (#) in the following tweet. tweet = \"Learning #Python is fun! #Coding #Regex\""
   ]
  },
  {
   "cell_type": "code",
   "execution_count": null,
   "metadata": {},
   "outputs": [],
   "source": [
    "import re\n",
    "\n",
    "# Define the tweet\n",
    "tweet = \"Learning #Python is fun! #Coding #Regex\"\n",
    "\n",
    "#Find all hashtags\n",
    "hashtags= re.findall(r'#\\w+',tweet)\n",
    "\n",
    "#print the result\n",
    "print(hashtags)"
   ]
  },
  {
   "cell_type": "markdown",
   "metadata": {},
   "source": [
    "Question 4: Extract all file extensions (like .pdf, .txt, .jpg) from a given list of filenames. files = [\"report.pdf\", \"image.jpg\", \"document.txt\", \"script.py\"]"
   ]
  },
  {
   "cell_type": "code",
   "execution_count": null,
   "metadata": {},
   "outputs": [],
   "source": [
    "import re\n",
    "\n",
    "# Define the list of files\n",
    "files = [\"report.pdf\", \"image.jpg\", \"document.txt\", \"script.py\"]\n",
    "\n",
    "# Extract all file extensions\n",
    "for file in files:\n",
    "    file_extensions = [re.search(r'\\.\\w+$', file).group()]\n",
    "    # Print the result\n",
    "    print(file_extensions)\n",
    "    \n"
   ]
  },
  {
   "cell_type": "markdown",
   "metadata": {},
   "source": [
    "Question 5: Write a function to validate an email address. A valid email has the format:\n",
    "\n",
    "📌 Pattern: username@domain.extension\n",
    "\n",
    "username → Contains letters, digits, _, . (but not at the start or end).\n",
    "domain → Contains letters and digits.\n",
    "extension → 2 to 4 letters (e.g., .com, .org, .edu)"
   ]
  },
  {
   "cell_type": "code",
   "execution_count": null,
   "metadata": {},
   "outputs": [],
   "source": [
    "import re\n",
    "\n",
    "def validate_email(email):\n",
    "    # Define the regex pattern for validating email\n",
    "    pattern = r'^[a-zA-Z0-9](?:[a-zA-Z0-9._]*[a-zA-Z0-9])+@[a-zA-Z0-9]+\\.[a-zA-Z]{2,4}$'\n",
    "    \n",
    "    # Use re.match to check if the email matches the pattern\n",
    "    if re.match(pattern, email):\n",
    "        return True\n",
    "    else:\n",
    "        return False\n",
    "\n",
    "# Test the function\n",
    "email = \"bhavenschaudhari.sits.entc@gmail.com\"\n",
    "print(f\"Is '{email}' valid? {validate_email(email)}\")\n"
   ]
  }
 ],
 "metadata": {
  "kernelspec": {
   "display_name": "Python 3",
   "language": "python",
   "name": "python3"
  },
  "language_info": {
   "codemirror_mode": {
    "name": "ipython",
    "version": 3
   },
   "file_extension": ".py",
   "mimetype": "text/x-python",
   "name": "python",
   "nbconvert_exporter": "python",
   "pygments_lexer": "ipython3",
   "version": "3.13.2"
  }
 },
 "nbformat": 4,
 "nbformat_minor": 2
}

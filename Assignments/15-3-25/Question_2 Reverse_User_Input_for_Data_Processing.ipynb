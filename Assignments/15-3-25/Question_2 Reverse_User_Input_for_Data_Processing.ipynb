{
 "cells": [
  {
   "cell_type": "code",
   "execution_count": 2,
   "metadata": {},
   "outputs": [
    {
     "name": "stdout",
     "output_type": "stream",
     "text": [
      "normal string: hello world\n",
      "Reversed string: dlrow olleh\n"
     ]
    }
   ],
   "source": [
    "# Function to reverse a string\n",
    "def reverse_string(input_string):\n",
    "    return input_string[::-1]\n",
    "\n",
    "# Accept input from the user\n",
    "user_input = input(\"Enter a string: \")\n",
    "\n",
    "# Reverse the input string\n",
    "reversed_string = reverse_string(user_input)\n",
    "\n",
    "# Print the normal and reversed string\n",
    "print(\"normal string:\",user_input)\n",
    "print(\"Reversed string:\", reversed_string)"
   ]
  }
 ],
 "metadata": {
  "kernelspec": {
   "display_name": "Python 3",
   "language": "python",
   "name": "python3"
  },
  "language_info": {
   "codemirror_mode": {
    "name": "ipython",
    "version": 3
   },
   "file_extension": ".py",
   "mimetype": "text/x-python",
   "name": "python",
   "nbconvert_exporter": "python",
   "pygments_lexer": "ipython3",
   "version": "3.13.2"
  }
 },
 "nbformat": 4,
 "nbformat_minor": 2
}

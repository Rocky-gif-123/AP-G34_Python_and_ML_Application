{
 "cells": [
  {
   "cell_type": "code",
   "execution_count": 1,
   "metadata": {},
   "outputs": [],
   "source": [
    "def strange_sort(arr):\n",
    "    arr.sort()\n",
    "    result = []\n",
    "    while arr:\n",
    "        result.append(arr.pop(0))  # Smallest element\n",
    "        if arr:\n",
    "            result.append(arr.pop(-1))  # Largest element\n",
    "    return result"
   ]
  },
  {
   "cell_type": "code",
   "execution_count": 2,
   "metadata": {},
   "outputs": [
    {
     "name": "stdout",
     "output_type": "stream",
     "text": [
      "[1, 11, 3, 5, 4]\n"
     ]
    }
   ],
   "source": [
    "# Example usage\n",
    "input_list = [1, 3, 4, 5, 11]\n",
    "output_list = strange_sort(input_list)\n",
    "print(output_list)  # Output: [1, 11, 3, 5, 4]"
   ]
  }
 ],
 "metadata": {
  "kernelspec": {
   "display_name": "Python 3",
   "language": "python",
   "name": "python3"
  },
  "language_info": {
   "codemirror_mode": {
    "name": "ipython",
    "version": 3
   },
   "file_extension": ".py",
   "mimetype": "text/x-python",
   "name": "python",
   "nbconvert_exporter": "python",
   "pygments_lexer": "ipython3",
   "version": "3.13.2"
  }
 },
 "nbformat": 4,
 "nbformat_minor": 2
}

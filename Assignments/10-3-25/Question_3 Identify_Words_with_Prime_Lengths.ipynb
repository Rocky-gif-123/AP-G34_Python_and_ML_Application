{
 "cells": [
  {
   "cell_type": "code",
   "execution_count": 4,
   "metadata": {},
   "outputs": [],
   "source": [
    "# Function to check if a number is prime\n",
    "def is_prime(n):\n",
    "    if n <= 1:\n",
    "        return False\n",
    "    for i in range(2, int(n ** 0.5) + 1):\n",
    "        if n % i == 0:\n",
    "            return False\n",
    "    return True"
   ]
  },
  {
   "cell_type": "code",
   "execution_count": 5,
   "metadata": {},
   "outputs": [],
   "source": [
    "# Function to filter words with prime lengths\n",
    "def words_with_prime_lengths(sentence):\n",
    "    # Split the sentence into words\n",
    "    words = sentence.split()\n",
    "    # Filter words with prime lengths\n",
    "    prime_length_words = [word for word in words if is_prime(len(word))]\n",
    "    return prime_length_words"
   ]
  },
  {
   "cell_type": "code",
   "execution_count": 6,
   "metadata": {},
   "outputs": [
    {
     "name": "stdout",
     "output_type": "stream",
     "text": [
      "Words with prime lengths: ['Welcome', 'to', 'the', 'world', 'of']\n"
     ]
    }
   ],
   "source": [
    "# Input from the user\n",
    "sentence = input(\"Enter a sentence or passage: \")\n",
    "\n",
    "# Find and print words with prime lengths\n",
    "result = words_with_prime_lengths(sentence)\n",
    "\n",
    "if result:\n",
    "    print(\"Words with prime lengths:\", result)\n",
    "else:\n",
    "    print(\"No words with prime lengths found.\")"
   ]
  }
 ],
 "metadata": {
  "kernelspec": {
   "display_name": "Python 3",
   "language": "python",
   "name": "python3"
  },
  "language_info": {
   "codemirror_mode": {
    "name": "ipython",
    "version": 3
   },
   "file_extension": ".py",
   "mimetype": "text/x-python",
   "name": "python",
   "nbconvert_exporter": "python",
   "pygments_lexer": "ipython3",
   "version": "3.13.2"
  }
 },
 "nbformat": 4,
 "nbformat_minor": 2
}

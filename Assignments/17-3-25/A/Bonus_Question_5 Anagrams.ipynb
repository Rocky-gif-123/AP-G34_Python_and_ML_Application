{
 "cells": [
  {
   "cell_type": "code",
   "execution_count": 2,
   "metadata": {},
   "outputs": [],
   "source": [
    "def makeAnagram(a, b):\n",
    "    # Create frequency dictionaries for both strings\n",
    "    freq_a = {}\n",
    "    freq_b = {}\n",
    "    \n",
    "    for char in a:\n",
    "        if char in freq_a:\n",
    "            freq_a[char] += 1\n",
    "        else:\n",
    "            freq_a[char] = 1\n",
    "    \n",
    "    for char in b:\n",
    "        if char in freq_b:\n",
    "            freq_b[char] += 1\n",
    "        else:\n",
    "            freq_b[char] = 1\n",
    "    \n",
    "    # Calculate the number of deletions required\n",
    "    deletions = 0\n",
    "    \n",
    "    # Check characters in a\n",
    "    for char in freq_a:\n",
    "        if char in freq_b:\n",
    "            deletions += abs(freq_a[char] - freq_b[char])\n",
    "        else:\n",
    "            deletions += freq_a[char]\n",
    "    \n",
    "    # Check characters in b that are not in a\n",
    "    for char in freq_b:\n",
    "        if char not in freq_a:\n",
    "            deletions += freq_b[char]\n",
    "    \n",
    "    return deletions"
   ]
  },
  {
   "cell_type": "code",
   "execution_count": 3,
   "metadata": {},
   "outputs": [
    {
     "name": "stdout",
     "output_type": "stream",
     "text": [
      "2\n"
     ]
    }
   ],
   "source": [
    "a = 'cde'\n",
    "b = 'dcf'\n",
    "print(makeAnagram(a, b))  "
   ]
  }
 ],
 "metadata": {
  "kernelspec": {
   "display_name": "Python 3",
   "language": "python",
   "name": "python3"
  },
  "language_info": {
   "codemirror_mode": {
    "name": "ipython",
    "version": 3
   },
   "file_extension": ".py",
   "mimetype": "text/x-python",
   "name": "python",
   "nbconvert_exporter": "python",
   "pygments_lexer": "ipython3",
   "version": "3.13.2"
  }
 },
 "nbformat": 4,
 "nbformat_minor": 2
}

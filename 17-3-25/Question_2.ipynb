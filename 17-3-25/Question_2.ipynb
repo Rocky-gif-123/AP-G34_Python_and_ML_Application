{
 "cells": [
  {
   "cell_type": "code",
   "execution_count": 1,
   "metadata": {},
   "outputs": [],
   "source": [
    "def calculate_average(marks):\n",
    "    if not marks:\n",
    "        raise ValueError(\"The list of marks is empty.\")\n",
    "    if not all(isinstance(mark, (int, float)) for mark in marks):\n",
    "        raise TypeError(\"All elements in the list must be numbers.\")\n",
    "    return sum(marks) / len(marks)\n",
    "\n",
    "def save_marks_to_file(filename, marks):\n",
    "    try:\n",
    "        with open(filename, 'w') as file:\n",
    "            for mark in marks:\n",
    "                file.write(f\"{mark}\\n\")\n",
    "    except IOError as e:\n",
    "        print(f\"An IOError occurred: {e}\")\n",
    "\n",
    "def read_marks_from_file(filename):\n",
    "    try:\n",
    "        with open(filename, 'r') as file:\n",
    "            marks = [int(line.strip()) for line in file]\n",
    "        return marks\n",
    "    except FileNotFoundError:\n",
    "        print(f\"The file {filename} was not found.\")\n",
    "    except ValueError:\n",
    "        print(\"There was an error converting the file contents to integers.\")"
   ]
  },
  {
   "cell_type": "code",
   "execution_count": 2,
   "metadata": {},
   "outputs": [
    {
     "name": "stdout",
     "output_type": "stream",
     "text": [
      "Average Marks: 84.33333333333333\n",
      "Read Marks: [85, 90, 78]\n"
     ]
    }
   ],
   "source": [
    "student_marks = [85, 90, 78]\n",
    "\n",
    "# Calculate the average marks\n",
    "avg = calculate_average(student_marks)\n",
    "print(\"Average Marks:\", avg)\n",
    "\n",
    "# Save the marks to a file\n",
    "save_marks_to_file(\"marks.txt\", student_marks)\n",
    "\n",
    "# Read the marks from the file\n",
    "read_marks = read_marks_from_file(\"marks.txt\")\n",
    "print(\"Read Marks:\", read_marks)"
   ]
  }
 ],
 "metadata": {
  "kernelspec": {
   "display_name": "Python 3",
   "language": "python",
   "name": "python3"
  },
  "language_info": {
   "codemirror_mode": {
    "name": "ipython",
    "version": 3
   },
   "file_extension": ".py",
   "mimetype": "text/x-python",
   "name": "python",
   "nbconvert_exporter": "python",
   "pygments_lexer": "ipython3",
   "version": "3.13.2"
  }
 },
 "nbformat": 4,
 "nbformat_minor": 2
}

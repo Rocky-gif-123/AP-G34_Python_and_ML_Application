{
 "cells": [
  {
   "cell_type": "code",
   "execution_count": 3,
   "metadata": {},
   "outputs": [
    {
     "name": "stdout",
     "output_type": "stream",
     "text": [
      "Age verification successful.\n",
      "Age verification completed.\n"
     ]
    }
   ],
   "source": [
    "class UnderageError(Exception):\n",
    "    \"\"\"Custom exception for underage verification failures.\"\"\"\n",
    "    pass\n",
    "\n",
    "def verify_age(age):\n",
    "    \"\"\"Verify if the age is 18 or above.\"\"\"\n",
    "    if age < 18:\n",
    "        raise UnderageError(\"User is underage.\")\n",
    "    else:\n",
    "        print(\"Age verification successful.\")\n",
    "\n",
    "def log_error(error_message):\n",
    "    \"\"\"Log the error message to error.log file.\"\"\"\n",
    "    try:\n",
    "        with open(\"error.log\", \"a\") as log_file:\n",
    "            log_file.write(error_message + \"\\n\")\n",
    "    except IOError as e:\n",
    "        print(f\"Failed to write to log file: {e}\")\n",
    "\n",
    "# Example usage\n",
    "try:\n",
    "    verify_age(int(input(\"Enter the age of the person:\")))\n",
    "except UnderageError as e:\n",
    "    log_error(str(e))\n",
    "    print(e)\n",
    "finally:\n",
    "    print(\"Age verification completed.\")"
   ]
  },
  {
   "cell_type": "code",
   "execution_count": null,
   "metadata": {},
   "outputs": [],
   "source": []
  }
 ],
 "metadata": {
  "kernelspec": {
   "display_name": "Python 3",
   "language": "python",
   "name": "python3"
  },
  "language_info": {
   "codemirror_mode": {
    "name": "ipython",
    "version": 3
   },
   "file_extension": ".py",
   "mimetype": "text/x-python",
   "name": "python",
   "nbconvert_exporter": "python",
   "pygments_lexer": "ipython3",
   "version": "3.13.2"
  }
 },
 "nbformat": 4,
 "nbformat_minor": 2
}

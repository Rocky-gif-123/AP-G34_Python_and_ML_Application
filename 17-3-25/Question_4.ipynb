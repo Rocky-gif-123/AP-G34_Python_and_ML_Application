{
 "cells": [
  {
   "cell_type": "code",
   "execution_count": 1,
   "metadata": {},
   "outputs": [],
   "source": [
    "class BookNotAvailableException(Exception):\n",
    "    def __init__(self, title):\n",
    "        self.message = f\"Error: Book '{title}' is not available in the library.\"\n",
    "        super().__init__(self.message)\n",
    "\n",
    "class Book:\n",
    "    def __init__(self, title, author, available=True):\n",
    "        self.title = title\n",
    "        self.author = author\n",
    "        self.available = available\n",
    "\n",
    "class Library:\n",
    "    def __init__(self):\n",
    "        self.books = []\n",
    "\n",
    "    def add_book(self, book):\n",
    "        self.books.append(book)\n",
    "\n",
    "    def borrow_book(self, title):\n",
    "        for book in self.books:\n",
    "            if book.title == title:\n",
    "                if book.available:\n",
    "                    book.available = False\n",
    "                    print(f\"Book '{title}' has been borrowed.\")\n",
    "                    return\n",
    "                else:\n",
    "                    raise BookNotAvailableException(title)\n",
    "        print(f\"Book '{title}' not found in the library.\")\n",
    "\n",
    "    def return_book(self, title):\n",
    "        for book in self.books:\n",
    "            if book.title == title:\n",
    "                book.available = True\n",
    "                print(f\"Book '{title}' has been returned.\")\n",
    "                return\n",
    "        print(f\"Book '{title}' not found in the library.\")\n",
    "\n",
    "    def display_books(self):\n",
    "        print(\"Available books:\")\n",
    "        for book in self.books:\n",
    "            if book.available:\n",
    "                print(f\"- {book.title}\")"
   ]
  },
  {
   "cell_type": "code",
   "execution_count": 2,
   "metadata": {},
   "outputs": [
    {
     "name": "stdout",
     "output_type": "stream",
     "text": [
      "Book 'Python Programming' has been borrowed.\n",
      "Error: Book 'Python Programming' is not available in the library.\n",
      "Available books:\n",
      "- Data Science Handbook\n"
     ]
    }
   ],
   "source": [
    "# Test case\n",
    "library = Library()\n",
    "library.add_book(Book(\"Python Programming\", \"John Doe\"))\n",
    "library.add_book(Book(\"Data Science Handbook\", \"Jane Smith\"))\n",
    "\n",
    "try:\n",
    "    library.borrow_book(\"Python Programming\")  # Borrow an available book\n",
    "    library.borrow_book(\"Python Programming\")  # Attempt to borrow the same book again\n",
    "except BookNotAvailableException as e:\n",
    "    print(e)\n",
    "\n",
    "library.display_books()  # Display available books after borrowing"
   ]
  }
 ],
 "metadata": {
  "kernelspec": {
   "display_name": "Python 3",
   "language": "python",
   "name": "python3"
  },
  "language_info": {
   "codemirror_mode": {
    "name": "ipython",
    "version": 3
   },
   "file_extension": ".py",
   "mimetype": "text/x-python",
   "name": "python",
   "nbconvert_exporter": "python",
   "pygments_lexer": "ipython3",
   "version": "3.13.2"
  }
 },
 "nbformat": 4,
 "nbformat_minor": 2
}
